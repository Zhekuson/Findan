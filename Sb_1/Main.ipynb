{
  "nbformat": 4,
  "nbformat_minor": 5,
  "metadata": {
    "colab": {
      "name": "Main.ipynb",
      "provenance": [],
      "include_colab_link": true
    },
    "language_info": {
      "name": "python"
    },
    "kernelspec": {
      "name": "python3",
      "display_name": "Python 3"
    }
  },
  "cells": [
    {
      "cell_type": "markdown",
      "metadata": {
        "id": "view-in-github",
        "colab_type": "text"
      },
      "source": [
        "<a href=\"https://colab.research.google.com/github/Zhekuson/Findan/blob/main/Sb_1/Main.ipynb\" target=\"_parent\"><img src=\"https://colab.research.google.com/assets/colab-badge.svg\" alt=\"Open In Colab\"/></a>"
      ]
    },
    {
      "cell_type": "markdown",
      "metadata": {
        "id": "j06z23TnuylB"
      },
      "source": [
        "# Первоначальная настройка"
      ],
      "id": "j06z23TnuylB"
    },
    {
      "cell_type": "markdown",
      "metadata": {
        "id": "7T0SlbaXu3wI"
      },
      "source": [
        "Здесь маунт, импорты и прочее  \n",
        "Не забудь очистить выходы ячеек перед коммитом"
      ],
      "id": "7T0SlbaXu3wI"
    },
    {
      "cell_type": "code",
      "metadata": {
        "id": "er-Q4el0uxlC",
        "outputId": "61f35793-2516-4ad4-ab28-10a2362b978b",
        "colab": {
          "base_uri": "https://localhost:8080/"
        }
      },
      "source": [
        "from google.colab import drive\n",
        "drive.mount('/content/drive')"
      ],
      "id": "er-Q4el0uxlC",
      "execution_count": 8,
      "outputs": [
        {
          "output_type": "stream",
          "name": "stdout",
          "text": [
            "Drive already mounted at /content/drive; to attempt to forcibly remount, call drive.mount(\"/content/drive\", force_remount=True).\n"
          ]
        }
      ]
    },
    {
      "cell_type": "code",
      "metadata": {
        "id": "dDnyhqJTvBKd"
      },
      "source": [
        "!ls"
      ],
      "id": "dDnyhqJTvBKd",
      "execution_count": null,
      "outputs": []
    },
    {
      "cell_type": "code",
      "metadata": {
        "id": "ugHCXDKvvD0R"
      },
      "source": [
        "!ls drive/MyDrive/Findan/Sb_1/"
      ],
      "id": "ugHCXDKvvD0R",
      "execution_count": 7,
      "outputs": []
    },
    {
      "cell_type": "code",
      "metadata": {
        "id": "w3yptLB4vKFy",
        "outputId": "8fbdd69d-483c-4d3e-fb76-e23faebf6ff0",
        "colab": {
          "base_uri": "https://localhost:8080/"
        }
      },
      "source": [
        "!git status"
      ],
      "id": "w3yptLB4vKFy",
      "execution_count": 9,
      "outputs": [
        {
          "output_type": "stream",
          "name": "stdout",
          "text": [
            "fatal: not a git repository (or any of the parent directories): .git\n"
          ]
        }
      ]
    },
    {
      "cell_type": "markdown",
      "metadata": {
        "id": "x2HPbspFu-1Q"
      },
      "source": [
        "# Новый раздел"
      ],
      "id": "x2HPbspFu-1Q"
    }
  ]
}