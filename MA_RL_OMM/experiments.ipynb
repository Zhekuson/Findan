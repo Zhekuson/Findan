{
 "cells": [
  {
   "cell_type": "code",
   "execution_count": 34,
   "metadata": {},
   "outputs": [],
   "source": [
    "import matplotlib.pyplot as plt\n",
    "import numpy as np\n",
    "import pandas as pd\n",
    "from macro_agent import MacroAgent, ReplayMemory, QNetwork, Transition\n",
    "import torch\n",
    "import torch.optim\n",
    "import torch.nn as nn\n",
    "from mpl_finance import candlestick_ohlc\n",
    "import matplotlib.pyplot as plt\n",
    "import matplotlib.ticker as ticker\n",
    "import datetime as datetime\n",
    "from datetime import datetime\n",
    "import matplotlib.dates as mdates"
   ]
  },
  {
   "cell_type": "code",
   "execution_count": 16,
   "metadata": {},
   "outputs": [],
   "source": [
    "CAPACITY = 500\n",
    "INIT_EPSILON = 0.4\n",
    "GAMMA_DISCOUNT = 0.8\n",
    "EPOCH_COUNT = 500\n",
    "MINI_BATCH_SIZE = 10\n",
    "ACTIONS={\"HOLD\":0, \"SELL\":1, \"BUY\":2}"
   ]
  },
  {
   "cell_type": "code",
   "execution_count": 3,
   "metadata": {},
   "outputs": [],
   "source": [
    "class Environment:\n",
    "    def __init__(self, all_data):\n",
    "        self.current_price = all_data[0]\n",
    "        self._all_data = all_data\n",
    "        self._pointer = 0\n",
    "        self.done = False\n",
    "        pass\n",
    "\n",
    "    def taken_action(self):\n",
    "        self.current_state = self._all_data[self._pointer + 1]\n",
    "        self._pointer += 1\n",
    "        if self._pointer >= len(self._all_data):\n",
    "            self.done = True\n",
    "        pass\n"
   ]
  },
  {
   "cell_type": "code",
   "execution_count": 4,
   "metadata": {},
   "outputs": [],
   "source": [
    "def decay_epsilon(cur_epsilon):\n",
    "    return cur_epsilon * 0.9"
   ]
  },
  {
   "cell_type": "code",
   "execution_count": 5,
   "metadata": {},
   "outputs": [],
   "source": [
    "replay_memory = ReplayMemory(CAPACITY)\n",
    "macro_agent = MacroAgent()\n",
    "optimizer = torch.optim.Adam(macro_agent.q_network.parameters())\n",
    "criterion = nn.MSELoss()"
   ]
  },
  {
   "cell_type": "code",
   "execution_count": 6,
   "metadata": {},
   "outputs": [
    {
     "ename": "TypeError",
     "evalue": "__init__() missing 1 required positional argument: 'all_data'",
     "output_type": "error",
     "traceback": [
      "\u001b[1;31m---------------------------------------------------------------------------\u001b[0m",
      "\u001b[1;31mTypeError\u001b[0m                                 Traceback (most recent call last)",
      "\u001b[1;32m~\\AppData\\Local\\Temp/ipykernel_10592/2240968524.py\u001b[0m in \u001b[0;36m<module>\u001b[1;34m\u001b[0m\n\u001b[0;32m      2\u001b[0m     \u001b[0mdone\u001b[0m \u001b[1;33m=\u001b[0m \u001b[1;32mFalse\u001b[0m\u001b[1;33m\u001b[0m\u001b[1;33m\u001b[0m\u001b[0m\n\u001b[0;32m      3\u001b[0m     \u001b[0mcur_epsilon\u001b[0m \u001b[1;33m=\u001b[0m \u001b[0mINIT_EPSILON\u001b[0m\u001b[1;33m\u001b[0m\u001b[1;33m\u001b[0m\u001b[0m\n\u001b[1;32m----> 4\u001b[1;33m     \u001b[0menvironment\u001b[0m \u001b[1;33m=\u001b[0m \u001b[0mEnvironment\u001b[0m\u001b[1;33m(\u001b[0m\u001b[1;33m)\u001b[0m\u001b[1;33m\u001b[0m\u001b[1;33m\u001b[0m\u001b[0m\n\u001b[0m\u001b[0;32m      5\u001b[0m     \u001b[1;32mwhile\u001b[0m \u001b[1;32mnot\u001b[0m \u001b[0mdone\u001b[0m\u001b[1;33m:\u001b[0m\u001b[1;33m\u001b[0m\u001b[1;33m\u001b[0m\u001b[0m\n\u001b[0;32m      6\u001b[0m         \u001b[0mmacro_agent\u001b[0m\u001b[1;33m.\u001b[0m\u001b[0mq_network\u001b[0m\u001b[1;33m.\u001b[0m\u001b[0meval\u001b[0m\u001b[1;33m(\u001b[0m\u001b[1;33m)\u001b[0m\u001b[1;33m\u001b[0m\u001b[1;33m\u001b[0m\u001b[0m\n",
      "\u001b[1;31mTypeError\u001b[0m: __init__() missing 1 required positional argument: 'all_data'"
     ]
    }
   ],
   "source": [
    "for epoch in range(EPOCH_COUNT):\n",
    "    done = False\n",
    "    cur_epsilon = INIT_EPSILON\n",
    "    environment = Environment([])\n",
    "    while not done:\n",
    "        macro_agent.q_network.eval()\n",
    "        decision = np.random.rand()\n",
    "        if decision < cur_epsilon:\n",
    "            # epsilon\n",
    "            action = np.random.choice(3)\n",
    "        else:\n",
    "            # 1-epsilon\n",
    "            action = np.argmax(macro_agent.q_network())\n",
    "        \n",
    "        environment.taken_action(action)\n",
    "        if action == ACTIONS['SELL']:\n",
    "            earning = np.sum(np.ones_like(macro_agent.assets) * cur_price - macro_agent.assets)\n",
    "        elif action == ACTIONS['BUY']:\n",
    "            np.append(macro_agent.assets, cur_price)\n",
    "            \n",
    "        s_next = environment.current_state['state']\n",
    "        r_current = environment.current_state['reward']\n",
    "        done = environment.current_state['done']\n",
    "\n",
    "        replay_memory.push(environment.current_state)\n",
    "        \n",
    "        macro_agent.q_network.train()\n",
    "        batch = replay_memory.sample(MINI_BATCH_SIZE)\n",
    "        \n",
    "        q = np.empty(MINI_BATCH_SIZE)\n",
    "        for i, object in enumerate(batch):\n",
    "            if not object['done']:\n",
    "                q[i] = object['reward'] + GAMMA_DISCOUNT * macro_agent.q_network.forward()\n",
    "            else:\n",
    "                q[i] = object['reward']\n",
    "        \n",
    "        loss = criterion(q, macro_agent.q_network.forward())\n",
    "        loss.backward()\n",
    "        optimizer.step()\n",
    "        optimizer.zero_grad()\n",
    "\n",
    "        cur_epsilon = decay_epsilon(cur_epsilon)"
   ]
  },
  {
   "cell_type": "code",
   "execution_count": 10,
   "metadata": {},
   "outputs": [],
   "source": [
    "t = Transition(False,1,1,2,2)"
   ]
  },
  {
   "cell_type": "code",
   "execution_count": 15,
   "metadata": {},
   "outputs": [
    {
     "data": {
      "text/plain": [
       "1"
      ]
     },
     "execution_count": 15,
     "metadata": {},
     "output_type": "execute_result"
    }
   ],
   "source": [
    "t.reward"
   ]
  },
  {
   "cell_type": "code",
   "execution_count": 50,
   "metadata": {},
   "outputs": [
    {
     "data": {
      "text/html": [
       "<div>\n",
       "<style scoped>\n",
       "    .dataframe tbody tr th:only-of-type {\n",
       "        vertical-align: middle;\n",
       "    }\n",
       "\n",
       "    .dataframe tbody tr th {\n",
       "        vertical-align: top;\n",
       "    }\n",
       "\n",
       "    .dataframe thead th {\n",
       "        text-align: right;\n",
       "    }\n",
       "</style>\n",
       "<table border=\"1\" class=\"dataframe\">\n",
       "  <thead>\n",
       "    <tr style=\"text-align: right;\">\n",
       "      <th></th>\n",
       "      <th>Open</th>\n",
       "      <th>High</th>\n",
       "      <th>Low</th>\n",
       "      <th>Close</th>\n",
       "      <th>Volume</th>\n",
       "    </tr>\n",
       "    <tr>\n",
       "      <th>0</th>\n",
       "      <th></th>\n",
       "      <th></th>\n",
       "      <th></th>\n",
       "      <th></th>\n",
       "      <th></th>\n",
       "    </tr>\n",
       "  </thead>\n",
       "  <tbody>\n",
       "    <tr>\n",
       "      <th>2018-11-02 06:00:00</th>\n",
       "      <td>6357.38</td>\n",
       "      <td>6357.53</td>\n",
       "      <td>6357.39</td>\n",
       "      <td>6357.39</td>\n",
       "      <td>2.483683</td>\n",
       "    </tr>\n",
       "    <tr>\n",
       "      <th>2018-11-02 05:59:00</th>\n",
       "      <td>6356.03</td>\n",
       "      <td>6357.38</td>\n",
       "      <td>6356.03</td>\n",
       "      <td>6357.38</td>\n",
       "      <td>5.992862</td>\n",
       "    </tr>\n",
       "    <tr>\n",
       "      <th>2018-11-02 05:58:00</th>\n",
       "      <td>6355.84</td>\n",
       "      <td>6357.09</td>\n",
       "      <td>6355.85</td>\n",
       "      <td>6356.04</td>\n",
       "      <td>1.646939</td>\n",
       "    </tr>\n",
       "    <tr>\n",
       "      <th>2018-11-02 05:57:00</th>\n",
       "      <td>6355.00</td>\n",
       "      <td>6355.85</td>\n",
       "      <td>6355.01</td>\n",
       "      <td>6355.85</td>\n",
       "      <td>4.091675</td>\n",
       "    </tr>\n",
       "    <tr>\n",
       "      <th>2018-11-02 05:56:00</th>\n",
       "      <td>6355.00</td>\n",
       "      <td>6355.01</td>\n",
       "      <td>6355.01</td>\n",
       "      <td>6355.01</td>\n",
       "      <td>1.804505</td>\n",
       "    </tr>\n",
       "  </tbody>\n",
       "</table>\n",
       "</div>"
      ],
      "text/plain": [
       "                        Open     High      Low    Close    Volume\n",
       "0                                                                \n",
       "2018-11-02 06:00:00  6357.38  6357.53  6357.39  6357.39  2.483683\n",
       "2018-11-02 05:59:00  6356.03  6357.38  6356.03  6357.38  5.992862\n",
       "2018-11-02 05:58:00  6355.84  6357.09  6355.85  6356.04  1.646939\n",
       "2018-11-02 05:57:00  6355.00  6355.85  6355.01  6355.85  4.091675\n",
       "2018-11-02 05:56:00  6355.00  6355.01  6355.01  6355.01  1.804505"
      ]
     },
     "execution_count": 50,
     "metadata": {},
     "output_type": "execute_result"
    }
   ],
   "source": [
    "market_data = pd.read_json('RESULT.json')\n",
    "market_data.rename(columns={1:'Open',2:'High', 3:'Low', 4:'Close', 5:'Volume'}, inplace=True)\n",
    "market_data[0] = market_data[0].transform(datetime.fromtimestamp)\n",
    "market_data.set_index(0, inplace=True)\n",
    "market_data.head()"
   ]
  },
  {
   "cell_type": "code",
   "execution_count": 51,
   "metadata": {},
   "outputs": [
    {
     "data": {
      "text/html": [
       "<div>\n",
       "<style scoped>\n",
       "    .dataframe tbody tr th:only-of-type {\n",
       "        vertical-align: middle;\n",
       "    }\n",
       "\n",
       "    .dataframe tbody tr th {\n",
       "        vertical-align: top;\n",
       "    }\n",
       "\n",
       "    .dataframe thead th {\n",
       "        text-align: right;\n",
       "    }\n",
       "</style>\n",
       "<table border=\"1\" class=\"dataframe\">\n",
       "  <thead>\n",
       "    <tr style=\"text-align: right;\">\n",
       "      <th></th>\n",
       "      <th>Open</th>\n",
       "      <th>High</th>\n",
       "      <th>Low</th>\n",
       "      <th>Close</th>\n",
       "      <th>Volume</th>\n",
       "    </tr>\n",
       "    <tr>\n",
       "      <th>0</th>\n",
       "      <th></th>\n",
       "      <th></th>\n",
       "      <th></th>\n",
       "      <th></th>\n",
       "      <th></th>\n",
       "    </tr>\n",
       "  </thead>\n",
       "  <tbody>\n",
       "    <tr>\n",
       "      <th>2018-11-02 06:00:00</th>\n",
       "      <td>6357.38</td>\n",
       "      <td>6357.53</td>\n",
       "      <td>6357.39</td>\n",
       "      <td>6357.39</td>\n",
       "      <td>2.483683</td>\n",
       "    </tr>\n",
       "    <tr>\n",
       "      <th>2018-11-02 05:59:00</th>\n",
       "      <td>6356.03</td>\n",
       "      <td>6357.38</td>\n",
       "      <td>6356.03</td>\n",
       "      <td>6357.38</td>\n",
       "      <td>5.992862</td>\n",
       "    </tr>\n",
       "    <tr>\n",
       "      <th>2018-11-02 05:58:00</th>\n",
       "      <td>6355.84</td>\n",
       "      <td>6357.09</td>\n",
       "      <td>6355.85</td>\n",
       "      <td>6356.04</td>\n",
       "      <td>1.646939</td>\n",
       "    </tr>\n",
       "    <tr>\n",
       "      <th>2018-11-02 05:57:00</th>\n",
       "      <td>6355.00</td>\n",
       "      <td>6355.85</td>\n",
       "      <td>6355.01</td>\n",
       "      <td>6355.85</td>\n",
       "      <td>4.091675</td>\n",
       "    </tr>\n",
       "    <tr>\n",
       "      <th>2018-11-02 05:56:00</th>\n",
       "      <td>6355.00</td>\n",
       "      <td>6355.01</td>\n",
       "      <td>6355.01</td>\n",
       "      <td>6355.01</td>\n",
       "      <td>1.804505</td>\n",
       "    </tr>\n",
       "    <tr>\n",
       "      <th>...</th>\n",
       "      <td>...</td>\n",
       "      <td>...</td>\n",
       "      <td>...</td>\n",
       "      <td>...</td>\n",
       "      <td>...</td>\n",
       "    </tr>\n",
       "    <tr>\n",
       "      <th>2018-11-18 02:04:00</th>\n",
       "      <td>5497.68</td>\n",
       "      <td>5497.69</td>\n",
       "      <td>5497.69</td>\n",
       "      <td>5497.69</td>\n",
       "      <td>1.350698</td>\n",
       "    </tr>\n",
       "    <tr>\n",
       "      <th>2018-11-18 02:03:00</th>\n",
       "      <td>5497.68</td>\n",
       "      <td>5497.69</td>\n",
       "      <td>5497.69</td>\n",
       "      <td>5497.69</td>\n",
       "      <td>2.856183</td>\n",
       "    </tr>\n",
       "    <tr>\n",
       "      <th>2018-11-18 02:02:00</th>\n",
       "      <td>5497.68</td>\n",
       "      <td>5497.69</td>\n",
       "      <td>5497.69</td>\n",
       "      <td>5497.69</td>\n",
       "      <td>2.033254</td>\n",
       "    </tr>\n",
       "    <tr>\n",
       "      <th>2018-11-18 02:01:00</th>\n",
       "      <td>5497.68</td>\n",
       "      <td>5497.69</td>\n",
       "      <td>5497.69</td>\n",
       "      <td>5497.68</td>\n",
       "      <td>0.896214</td>\n",
       "    </tr>\n",
       "    <tr>\n",
       "      <th>2018-11-18 02:00:00</th>\n",
       "      <td>5496.82</td>\n",
       "      <td>5498.00</td>\n",
       "      <td>5496.85</td>\n",
       "      <td>5497.69</td>\n",
       "      <td>2.090446</td>\n",
       "    </tr>\n",
       "  </tbody>\n",
       "</table>\n",
       "<p>23166 rows × 5 columns</p>\n",
       "</div>"
      ],
      "text/plain": [
       "                        Open     High      Low    Close    Volume\n",
       "0                                                                \n",
       "2018-11-02 06:00:00  6357.38  6357.53  6357.39  6357.39  2.483683\n",
       "2018-11-02 05:59:00  6356.03  6357.38  6356.03  6357.38  5.992862\n",
       "2018-11-02 05:58:00  6355.84  6357.09  6355.85  6356.04  1.646939\n",
       "2018-11-02 05:57:00  6355.00  6355.85  6355.01  6355.85  4.091675\n",
       "2018-11-02 05:56:00  6355.00  6355.01  6355.01  6355.01  1.804505\n",
       "...                      ...      ...      ...      ...       ...\n",
       "2018-11-18 02:04:00  5497.68  5497.69  5497.69  5497.69  1.350698\n",
       "2018-11-18 02:03:00  5497.68  5497.69  5497.69  5497.69  2.856183\n",
       "2018-11-18 02:02:00  5497.68  5497.69  5497.69  5497.69  2.033254\n",
       "2018-11-18 02:01:00  5497.68  5497.69  5497.69  5497.68  0.896214\n",
       "2018-11-18 02:00:00  5496.82  5498.00  5496.85  5497.69  2.090446\n",
       "\n",
       "[23166 rows x 5 columns]"
      ]
     },
     "execution_count": 51,
     "metadata": {},
     "output_type": "execute_result"
    }
   ],
   "source": [
    "market_data"
   ]
  },
  {
   "cell_type": "code",
   "execution_count": 25,
   "metadata": {},
   "outputs": [
    {
     "data": {
      "text/plain": [
       "[<matplotlib.lines.Line2D at 0x1aef109d5e0>]"
      ]
     },
     "execution_count": 25,
     "metadata": {},
     "output_type": "execute_result"
    },
    {
     "data": {
      "image/png": "[encoded data removed]",
      "text/plain": [
       "<Figure size 432x288 with 1 Axes>"
      ]
     },
     "metadata": {
      "needs_background": "light"
     },
     "output_type": "display_data"
    }
   ],
   "source": [
    "plt.plot(market_data[1])"
   ]
  },
  {
   "cell_type": "code",
   "execution_count": 40,
   "metadata": {},
   "outputs": [
    {
     "data": {
      "image/png": "[encoded data removed]",
      "text/plain": [
       "<Figure size 432x288 with 1 Axes>"
      ]
     },
     "metadata": {
      "needs_background": "light"
     },
     "output_type": "display_data"
    }
   ],
   "source": [
    "fig, ax = plt.subplots()\n",
    "fig.subplots_adjust(bottom=0.2)\n",
    "candlestick_ohlc(ax,quotes = zip(mdates.date2num(market_data[0].transform(lambda x: datetime.fromtimestamp(x))),\n",
    "                         market_data[1], market_data[2],\n",
    "                         market_data[3], market_data[4]),\n",
    "                 width=0.6)\n",
    "plt.show()"
   ]
  },
  {
   "cell_type": "code",
   "execution_count": null,
   "metadata": {},
   "outputs": [],
   "source": []
  }
 ],
 "metadata": {
  "interpreter": {
   "hash": "7b2bd16c4a5b7bdb943c513e9c5dbb440fb1e7bca9cf829d440576f5014c581f"
  },
  "kernelspec": {
   "display_name": "Python 3.9.5 64-bit",
   "language": "python",
   "name": "python3"
  },
  "language_info": {
   "codemirror_mode": {
    "name": "ipython",
    "version": 3
   },
   "file_extension": ".py",
   "mimetype": "text/x-python",
   "name": "python",
   "nbconvert_exporter": "python",
   "pygments_lexer": "ipython3",
   "version": "3.9.5"
  },
  "orig_nbformat": 4
 },
 "nbformat": 4,
 "nbformat_minor": 2
}
